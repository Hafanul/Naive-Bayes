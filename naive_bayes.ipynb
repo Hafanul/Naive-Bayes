{
  "nbformat": 4,
  "nbformat_minor": 0,
  "metadata": {
    "colab": {
      "name": "naive_bayes.ipynb",
      "provenance": [],
      "collapsed_sections": []
    },
    "kernelspec": {
      "name": "python3",
      "display_name": "Python 3"
    },
    "language_info": {
      "name": "python"
    }
  },
  "cells": [
    {
      "cell_type": "code",
      "metadata": {
        "id": "Qu7fl9Ew1UhU"
      },
      "source": [
        "import numpy as np\n",
        "import pandas as pd\n",
        "from pandas import read_csv\n",
        "from sklearn.model_selection import train_test_split\n",
        "from sklearn.naive_bayes import GaussianNB\n",
        "from sklearn import metrics\n",
        "from sklearn.metrics import confusion_matrix\n",
        "from sklearn.model_selection import cross_val_score\n",
        "from sklearn.impute import SimpleImputer\n",
        "from sklearn.model_selection import KFold\n"
      ],
      "execution_count": 1,
      "outputs": []
    },
    {
      "cell_type": "code",
      "metadata": {
        "colab": {
          "base_uri": "https://localhost:8080/"
        },
        "id": "XMCsflGz1R23",
        "outputId": "15b68a49-1e44-437b-94f3-2eb3edb823bb"
      },
      "source": [
        "\n",
        "df=pd.read_csv('/content/train-data.csv')\n",
        "X= df.iloc[:,1:].values\n",
        "y=df.iloc[:,0]\n",
        "\n",
        "\n",
        "\n",
        "imputer= SimpleImputer(missing_values=np.nan, strategy='median')\n",
        "imputer=imputer.fit_transform(X)\n",
        "\n",
        "X= pd.DataFrame(imputer)\n",
        "\n",
        "conf_matrix_list_of_arrays = []\n",
        "acc_list_of_arrays=[]\n",
        "f1_list_of_arrays=[]\n",
        "kf=KFold(n_splits=5, random_state=3, shuffle=True)\n",
        "for train_index, test_index in kf.split(X):\n",
        "    X_train, X_test = X.loc[train_index, :], X.loc[test_index, :]\n",
        "    y_train, y_test = y[train_index], y[test_index]\n",
        "    cls = GaussianNB()\n",
        "    cls.fit(X_train,y_train)\n",
        "    y_pred=cls.predict(X_test)\n",
        "    conf_matrix = confusion_matrix(y_test, y_pred)\n",
        "    acc= metrics.accuracy_score(y_test,y_pred)\n",
        "    f1=metrics.f1_score(y_test,y_pred, average='micro')\n",
        "    conf_matrix_list_of_arrays.append(conf_matrix)\n",
        "    acc_list_of_arrays.append(acc)\n",
        "    f1_list_of_arrays.append(f1)\n",
        "print(\"Naive Bayes\")\n",
        "print(\"Confusion Matrix\")\n",
        "print(conf_matrix_list_of_arrays)\n",
        "print(\"Accuracy\")\n",
        "print(acc_list_of_arrays)\n",
        "print(\"F1 score\")\n",
        "print(f1_list_of_arrays)\n"
      ],
      "execution_count": 2,
      "outputs": [
        {
          "output_type": "stream",
          "name": "stdout",
          "text": [
            "Naive Bayes\n",
            "Confusion Matrix\n",
            "[array([[0, 0, 0, 1, 0, 0],\n",
            "       [0, 0, 0, 0, 0, 0],\n",
            "       [0, 0, 0, 0, 1, 0],\n",
            "       [0, 0, 0, 0, 0, 0],\n",
            "       [0, 0, 0, 0, 0, 0],\n",
            "       [0, 1, 0, 0, 0, 0]]), array([[0, 0, 0, 0, 0, 0],\n",
            "       [0, 0, 0, 0, 0, 1],\n",
            "       [1, 0, 0, 0, 0, 0],\n",
            "       [0, 0, 0, 0, 0, 0],\n",
            "       [0, 0, 0, 1, 0, 0],\n",
            "       [0, 0, 0, 0, 0, 0]]), array([[0, 0, 0, 0, 0, 1],\n",
            "       [0, 0, 0, 0, 0, 0],\n",
            "       [0, 0, 0, 0, 0, 0],\n",
            "       [0, 1, 0, 0, 0, 0],\n",
            "       [0, 0, 1, 0, 0, 0],\n",
            "       [0, 0, 0, 0, 0, 0]]), array([[0, 0, 0, 0, 0, 0],\n",
            "       [0, 0, 1, 0, 0, 0],\n",
            "       [0, 0, 0, 0, 0, 0],\n",
            "       [0, 0, 0, 0, 0, 0],\n",
            "       [1, 0, 0, 0, 0, 0],\n",
            "       [0, 0, 0, 1, 0, 0]]), array([[0, 0, 0, 0, 0, 0],\n",
            "       [0, 0, 0, 0, 0, 0],\n",
            "       [0, 0, 0, 0, 0, 0],\n",
            "       [1, 0, 0, 0, 0, 0],\n",
            "       [0, 0, 1, 0, 0, 0],\n",
            "       [0, 1, 0, 0, 0, 0]])]\n",
            "Accuracy\n",
            "[0.0, 0.0, 0.0, 0.0, 0.0]\n",
            "F1 score\n",
            "[0.0, 0.0, 0.0, 0.0, 0.0]\n"
          ]
        }
      ]
    }
  ]
}