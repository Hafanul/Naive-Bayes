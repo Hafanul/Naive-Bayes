{
  "nbformat": 4,
  "nbformat_minor": 0,
  "metadata": {
    "colab": {
      "name": "naive_bayes.ipynb",
      "provenance": [],
      "collapsed_sections": []
    },
    "kernelspec": {
      "name": "python3",
      "display_name": "Python 3"
    },
    "language_info": {
      "name": "python"
    }
  },
  "cells": [
    {
      "cell_type": "code",
      "metadata": {
        "id": "Qu7fl9Ew1UhU"
      },
      "source": [
        "import numpy as np\n",
        "import pandas as pd\n",
        "from pandas import read_csv\n",
        "from sklearn.model_selection import train_test_split\n",
        "from sklearn.naive_bayes import GaussianNB\n",
        "from sklearn import metrics\n",
        "from sklearn.metrics import confusion_matrix\n",
        "from sklearn.model_selection import cross_val_score\n",
        "from sklearn.impute import SimpleImputer\n",
        "from sklearn.model_selection import KFold\n"
      ],
      "execution_count": 1,
      "outputs": []
    },
    {
      "cell_type": "code",
      "metadata": {
        "colab": {
          "base_uri": "https://localhost:8080/"
        },
        "id": "XMCsflGz1R23",
        "outputId": "15b68a49-1e44-437b-94f3-2eb3edb823bb"
      },
      "source": [
        "\n",
        "df=pd.read_csv('/content/train-data.csv')\n",
        "X= df.iloc[:,1:].values\n",
        "y=df.iloc[:,0]\n",
        "\n",
        "\n",
        "\n",
        "imputer= SimpleImputer(missing_values=np.nan, strategy='median')\n",
        "imputer=imputer.fit_transform(X)\n",
        "\n",
        "X= pd.DataFrame(imputer)\n",
        "\n",
        "conf_matrix_list_of_arrays = []\n",
        "acc_list_of_arrays=[]\n",
        "f1_list_of_arrays=[]\n",
        "kf=KFold(n_splits=5, random_state=3, shuffle=True)\n",
        "for train_index, test_index in kf.split(X):\n",
        "    X_train, X_test = X.loc[train_index, :], X.loc[test_index, :]\n",
        "    y_train, y_test = y[train_index], y[test_index]\n",
        "    cls = GaussianNB()\n",
        "    cls.fit(X_train,y_train)\n",
        "    y_pred=cls.predict(X_test)\n",
        "    conf_matrix = confusion_matrix(y_test, y_pred)\n",
        "    acc= metrics.accuracy_score(y_test,y_pred)\n",
        "    f1=metrics.f1_score(y_test,y_pred, average='micro')\n",
        "    conf_matrix_list_of_arrays.append(conf_matrix)\n",
        "    acc_list_of_arrays.append(acc)\n",
        "    f1_list_of_arrays.append(f1)\n",
        "print(\"Naive Bayes\")\n",
        "print(\"Confusion Matrix\")\n",
        "print(conf_matrix_list_of_arrays)\n",
        "print(\"Accuracy\")\n",
        "print(acc_list_of_arrays)\n",
        "print(\"F1 score\")\n",
        "print(f1_list_of_arrays)\n"
      ],
      "execution_count": 2,
      "outputs": [
        {
          "output_type": "stream",
          "name": "stdout",
          "text": [
            "Naive Bayes\n",
            "Confusion Matrix\n",
            "[array([[0, 0, 0, 1, 0, 0],\n",
            "       [0, 0, 0, 0, 0, 0],\n",
            "       [0, 0, 0, 0, 1, 0],\n",
            "       [0, 0, 0, 0, 0, 0],\n",
            "       [0, 0, 0, 0, 0, 0],\n",
            "       [0, 1, 0, 0, 0, 0]]), array([[0, 0, 0, 0, 0, 0],\n",
            "       [0, 0, 0, 0, 0, 1],\n",
            "       [1, 0, 0, 0, 0, 0],\n",
            "       [0, 0, 0, 0, 0, 0],\n",
            "       [0, 0, 0, 1, 0, 0],\n",
            "       [0, 0, 0, 0, 0, 0]]), array([[0, 0, 0, 0, 0, 1],\n",
            "       [0, 0, 0, 0, 0, 0],\n",
            "       [0, 0, 0, 0, 0, 0],\n",
            "       [0, 1, 0, 0, 0, 0],\n",
            "       [0, 0, 1, 0, 0, 0],\n",
            "       [0, 0, 0, 0, 0, 0]]), array([[0, 0, 0, 0, 0, 0],\n",
            "       [0, 0, 1, 0, 0, 0],\n",
            "       [0, 0, 0, 0, 0, 0],\n",
            "       [0, 0, 0, 0, 0, 0],\n",
            "       [1, 0, 0, 0, 0, 0],\n",
            "       [0, 0, 0, 1, 0, 0]]), array([[0, 0, 0, 0, 0, 0],\n",
            "       [0, 0, 0, 0, 0, 0],\n",
            "       [0, 0, 0, 0, 0, 0],\n",
            "       [1, 0, 0, 0, 0, 0],\n",
            "       [0, 0, 1, 0, 0, 0],\n",
            "       [0, 1, 0, 0, 0, 0]])]\n",
            "Accuracy\n",
            "[0.0, 0.0, 0.0, 0.0, 0.0]\n",
            "F1 score\n",
            "[0.0, 0.0, 0.0, 0.0, 0.0]\n"
          ]
        }
      ]
    },
    {
      "cell_type": "code",
      "metadata": {
        "colab": {
          "base_uri": "https://localhost:8080/"
        },
        "id": "Awa7e_lY40fD",
        "outputId": "46f134b9-ef3d-4da5-8068-5d4b06bfdb25"
      },
      "source": [
        "'''\n",
        "The following code is for Naive Bayes\n",
        "Created by - ANALYTICS VIDHYA\n",
        "'''\n",
        "\n",
        "# importing required libraries\n",
        "import pandas as pd\n",
        "from sklearn.naive_bayes import GaussianNB\n",
        "from sklearn.metrics import accuracy_score\n",
        "\n",
        "# read the train and test dataset\n",
        "train_data = pd.read_csv('/content/train-data.csv')\n",
        "test_data = pd.read_csv('/content/test-data.csv')\n",
        "\n",
        "# shape of the dataset\n",
        "print('Shape of training data :',train_data.shape)\n",
        "print('Shape of testing data :',test_data.shape)\n",
        "\n",
        "# Now, we need to predict the missing target variable in the test data\n",
        "# target variable - Survived\n",
        "\n",
        "# seperate the independent and target variable on training data\n",
        "train_x = train_data.drop(columns=['Match Decision'],axis=1)\n",
        "train_y = train_data['Match Decision']\n",
        "\n",
        "# seperate the independent and target variable on testing data\n",
        "test_x = test_data.drop(columns=['Match Decision'],axis=1)\n",
        "test_y = test_data['Match Decision']\n",
        "\n",
        "\n",
        "model = GaussianNB()\n",
        "\n",
        "# fit the model with the training data\n",
        "model.fit(train_x,train_y)\n",
        "\n",
        "# predict the target on the train dataset\n",
        "predict_train = model.predict(train_x)\n",
        "print('Target on train data',predict_train) \n",
        "\n",
        "# Accuray Score on train dataset\n",
        "accuracy_train = accuracy_score(train_y,predict_train)\n",
        "print('accuracy_score on train dataset : ', accuracy_train)\n",
        "\n",
        "# predict the target on the test dataset\n",
        "predict_test = model.predict(test_x)\n",
        "print('Target on test data',predict_test) \n",
        "\n",
        "# Accuracy Score on test dataset\n",
        "accuracy_test = accuracy_score(test_y,predict_test)\n",
        "print('accuracy_score on test dataset : ', accuracy_test)"
      ],
      "execution_count": 3,
      "outputs": [
        {
          "output_type": "stream",
          "name": "stdout",
          "text": [
            "Shape of training data : (15, 6)\n",
            "Shape of testing data : (3, 6)\n",
            "Target on train data [1 1 1 1 2 1 1 2 1 1 2 2 1 2 2]\n",
            "accuracy_score on train dataset :  0.8\n",
            "Target on test data [1 1 1]\n",
            "accuracy_score on test dataset :  0.0\n"
          ]
        }
      ]
    }
  ]
}